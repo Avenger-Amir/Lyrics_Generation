{
 "cells": [
  {
   "cell_type": "code",
   "execution_count": 1,
   "metadata": {},
   "outputs": [],
   "source": [
    "import pandas as pd\n",
    "import numpy as np\n",
    "import seaborn as sns\n",
    "import os"
   ]
  },
  {
   "cell_type": "code",
   "execution_count": 2,
   "metadata": {},
   "outputs": [],
   "source": [
    "def generateTable(data,k,T):\n",
    "    for i in range(len(data)-k):\n",
    "        X=data[i:i+k]\n",
    "        Y=data[i+k]\n",
    "        if T.get(X) is None:\n",
    "            T[X]={}\n",
    "            T[X][Y]=1\n",
    "        else:\n",
    "            if T[X].get(Y) is None:\n",
    "                T[X][Y]=1\n",
    "            else:\n",
    "                T[X][Y]+=1\n",
    "    return T"
   ]
  },
  {
   "cell_type": "code",
   "execution_count": 3,
   "metadata": {},
   "outputs": [],
   "source": [
    "#T=generateTable(\"hello hello helli\",4)\n",
    "#print(T)"
   ]
  },
  {
   "cell_type": "code",
   "execution_count": 4,
   "metadata": {},
   "outputs": [],
   "source": [
    "def convertFreqIntoProb(T):\n",
    "    for kx in T.keys():\n",
    "        s=float(sum(T[kx].values()))\n",
    "        for k in T[kx].keys():\n",
    "            T[kx][k]=T[kx][k]/s\n",
    "    return T"
   ]
  },
  {
   "cell_type": "code",
   "execution_count": 5,
   "metadata": {},
   "outputs": [],
   "source": [
    "#T=convertFreqIntoProb(T)\n",
    "#print(T)"
   ]
  },
  {
   "cell_type": "code",
   "execution_count": 6,
   "metadata": {},
   "outputs": [],
   "source": [
    "## Train our Markov Chain\n",
    "\n",
    "def trainMarkovChain(text,k,T):\n",
    "    T=generateTable(text,k,T)\n",
    "    #T=convertFreqIntoProb(T)\n",
    "    return T"
   ]
  },
  {
   "cell_type": "code",
   "execution_count": 7,
   "metadata": {},
   "outputs": [],
   "source": [
    "#model=trainMarkovChain(text,5)\n",
    "#print(model)"
   ]
  },
  {
   "cell_type": "code",
   "execution_count": 8,
   "metadata": {},
   "outputs": [],
   "source": [
    "#pwd!\n"
   ]
  },
  {
   "cell_type": "code",
   "execution_count": 9,
   "metadata": {},
   "outputs": [],
   "source": [
    "#text_path=\"song1.txt\"\n",
    "def load_text(filename):\n",
    "    with open(filename,encoding=\"utf8\") as f:\n",
    "        return f.read().lower()\n",
    "    "
   ]
  },
  {
   "cell_type": "code",
   "execution_count": 27,
   "metadata": {},
   "outputs": [],
   "source": [
    "files=os.listdir('C:\\\\Users\\\\acer\\\\Desktop\\\\ML-Projects\\\\Lyrics\\\\LyricsData')\n",
    "#print(files)\n",
    "T={}\n",
    "for i in range(0,len(files)):\n",
    "    text=load_text('C:\\\\Users\\\\acer\\\\Desktop\\\\ML-Projects\\\\Lyrics\\\\LyricsData\\\\'+files[i])\n",
    "    T=trainMarkovChain(text,4,T)\n",
    "    #print(len(T))\n",
    "    #print(text)\n",
    "model=convertFreqIntoProb(T)\n",
    "    \n",
    "\n",
    "#print(text)"
   ]
  },
  {
   "cell_type": "code",
   "execution_count": 28,
   "metadata": {},
   "outputs": [],
   "source": [
    "#print(model)\n",
    "# ## Train our Markov Chain\n",
    "\n",
    "# def trainMarkovChain(text,k):\n",
    "#     T=generateTable(text,k)\n",
    "#     T=convertFreqIntoProb(T)\n",
    "#     return T"
   ]
  },
  {
   "cell_type": "code",
   "execution_count": 29,
   "metadata": {},
   "outputs": [],
   "source": [
    "# model=trainMarkovChain(text,5)\n",
    "# print(model)"
   ]
  },
  {
   "cell_type": "code",
   "execution_count": 30,
   "metadata": {},
   "outputs": [],
   "source": [
    "def sample_next(ctx,T,k):\n",
    "    ctx=ctx[-k:]\n",
    "    if T.get(ctx) is None:\n",
    "        return \" \"\n",
    "    possibleChars=list(T[ctx].keys())\n",
    "    possibleValues=list(T[ctx].values())\n",
    "    return np.random.choice(possibleChars,p=possibleValues)"
   ]
  },
  {
   "cell_type": "code",
   "execution_count": 31,
   "metadata": {},
   "outputs": [
    {
     "data": {
      "text/plain": [
       "' '"
      ]
     },
     "execution_count": 31,
     "metadata": {},
     "output_type": "execute_result"
    }
   ],
   "source": [
    "sample_next(\"wajiha\",model,40)"
   ]
  },
  {
   "cell_type": "code",
   "execution_count": 32,
   "metadata": {},
   "outputs": [],
   "source": [
    "def generateText(startingSent,k,maxLen):\n",
    "    sentence=startingSent\n",
    "    ctx=startingSent\n",
    "    for ix in range(maxLen):\n",
    "        nextPrediction=sample_next(ctx,model,k)\n",
    "        sentence+=nextPrediction\n",
    "        #print(nextPrediction)\n",
    "        #print(len(sentence))\n",
    "        ctx=sentence[-k:]\n",
    "    return sentence"
   ]
  },
  {
   "cell_type": "code",
   "execution_count": 33,
   "metadata": {},
   "outputs": [],
   "source": [
    "# if T.get(\"w\") is None:\n",
    "#     print(\"ajih\")"
   ]
  },
  {
   "cell_type": "code",
   "execution_count": 34,
   "metadata": {},
   "outputs": [
    {
     "name": "stdout",
     "output_type": "stream",
     "text": [
      "saamiya behka hua hain sapno ki daata\n",
      "do jahan tero na aaja\n",
      "\n",
      "chanda de, nayan\n",
      "thandni phir yeh khwaap karat ab jhoothi bhegoy gaye se dil parvane neendiya maari bhatki hui jale ja gaye rehnaaiye kisne bina\n",
      "sautan ki na samjha\n",
      "\n",
      "tum ko dhoodti hoongru boliye\n",
      "khud dil ki na paar\n",
      "mujhe roshni nahin\n",
      "armanon se\n",
      "bheegi haasi kaliya\n",
      "ho jiyara more basuriya aans be aanson kaabil mein ke se ke re janam mein bajaye ho\n",
      "mitti mein dil ki daastan\n",
      "\n",
      "palkon karat ab jhoothi o\n",
      "\n",
      "aayen\n",
      "\n",
      "suraj dekhe\n",
      "sab dekhle bhari jaa dil ki aati de bhi neendiya pata papiharaya\n",
      "na jaake aaja re ja gayi hai chandni ki aans na de\n",
      "o beqaraar layi, ankhiyan\n",
      "sulag sulag sulag ja ri aaja re woh din kho gale-e-e\n",
      "\n",
      "haye ke samjha\n",
      "\n",
      "lehera tan dole\n",
      "meri mohe palkon kaabil mujhe tero na karne\n",
      "yeh chand aur ro liyan ki kali saloni ghum to\n",
      "khushi khwab mein khadi is paar\n",
      "yeh ankhiyan more bina\n",
      "sooni ghum wohi mann ka layi, ankhiyaan bedardi\n",
      "\n",
      "nain jali talaash kaun baras ghoon ki baar ki aaja re chori\n",
      "taaron se\n",
      "aanson ko sajan kis janam ke ho\n"
     ]
    }
   ],
   "source": [
    "text=generateText(\"saamiya\",4,1000)\n",
    "print(text)"
   ]
  },
  {
   "cell_type": "code",
   "execution_count": 35,
   "metadata": {},
   "outputs": [
    {
     "name": "stdout",
     "output_type": "stream",
     "text": [
      "wajiha                                                                                                                                                                                                                                                                                                                                                                                                                                                                                                                                                                                                                                                                                                                                                                                                                                                                                                                                                                                                                                        \n"
     ]
    }
   ],
   "source": [
    "text=generateText(\"wajiha\",4,1000)\n",
    "print(text)"
   ]
  },
  {
   "cell_type": "code",
   "execution_count": 36,
   "metadata": {},
   "outputs": [
    {
     "name": "stdout",
     "output_type": "stream",
     "text": [
      "amir                                                                                                                                                                                                                                                                                                                                                                                                                                                                                                                                                                                                                                                                                                                                                                                                                                                                                                                                                                                                                                        \n"
     ]
    }
   ],
   "source": [
    "text=generateText(\"amir\",4,1000)\n",
    "print(text)"
   ]
  },
  {
   "cell_type": "code",
   "execution_count": 37,
   "metadata": {},
   "outputs": [
    {
     "name": "stdout",
     "output_type": "stream",
     "text": [
      "aayat                                                                                                                                                                                                                                                                                                                                                                                                                                                                                                                                                                                                                                                                                                                                                                                                                                                                                                                                                                                                                                        \n"
     ]
    }
   ],
   "source": [
    "text=generateText(\"aayat\",4,1000)\n",
    "print(text)"
   ]
  },
  {
   "cell_type": "code",
   "execution_count": 38,
   "metadata": {},
   "outputs": [
    {
     "name": "stdout",
     "output_type": "stream",
     "text": [
      "rafat kahan tha akeli\n",
      "\n",
      "ruk jaa dil ki bata pata paao kaha tak laga la la, la la layi\n",
      "raste peeke chale thikane\n",
      "tera aayi\n",
      "mujhe\n",
      "aane karna\n",
      "\n",
      "tadpaye\n",
      "thanda dekhe hain to kahi chanda bhi\n",
      "yeh chamke\n",
      "yeh khwale thehar jaa dil mujhe kaha\n",
      "tum ki tiki\n",
      "kaha\n",
      "chale jaane neend na aaja ri aanewale janam mein o sajana balkha bahare\n",
      "tadpat ho nainan kehnaaiyaan ko dhoon mein mili\n",
      "geet koyal ke\n",
      "rehte hunn bole\n",
      "meri mein ko dhood rahi chandni ki mann\n",
      "bhati hain\n",
      "aarmanon ko mile ghat pe\n",
      "haye dil ki aise baat bina\n",
      "sooni mein lipti hai sajana nahin\n",
      "dil ki panth nihaar\n",
      "yeh kaun barse ke daastan\n",
      "\n",
      "rim jhim gire se bujh na de de bhi na to kahon ne samjha\n",
      "pyaar\n",
      "aaj chap hai\n",
      "saiyaan meri zindagi nahi chaai jiyara moh liye\n",
      "khud dil se aaye\n",
      "hum woh\n",
      "ishare\n",
      "jee bhi yun hasraton ki labon parvar saari jawan\n",
      "sabko sajanam mein mila ke kardesi\n",
      "\n",
      "mere\n",
      "bheege aaye\n",
      "humne samjha\n",
      "\n",
      "yeh aagan, la la, la la, la la, la la\n",
      "\n",
      "aesi rimjhim gire sahi chaayad phir ke de bhi jale jane samjha\n",
      "\n",
      "pehle mera ja re jana najariya\n",
      "\n",
      "haye duniya maa\n"
     ]
    }
   ],
   "source": [
    "text=generateText(\"rafat\",4,1000)\n",
    "print(text)"
   ]
  },
  {
   "cell_type": "code",
   "execution_count": 39,
   "metadata": {},
   "outputs": [
    {
     "name": "stdout",
     "output_type": "stream",
     "text": [
      "monu                                                                                                                                                                                                                                                                                                                                                                                                                                                                                                                                                                                                                                                                                                                                                                                                                                                                                                                                                                                                                                        \n"
     ]
    }
   ],
   "source": [
    "text=generateText(\"monu\",4,1000)\n",
    "print(text)"
   ]
  },
  {
   "cell_type": "code",
   "execution_count": 40,
   "metadata": {},
   "outputs": [
    {
     "name": "stdout",
     "output_type": "stream",
     "text": [
      "abdiya behka hua hain\n",
      "mere se\n",
      "\n",
      "phir kaha\n",
      "chal machale aayega aayen lekar\n",
      "aayi\n",
      "kandhe lagi na de, nazron ne yeh baaten\n",
      "kho gagriya\n",
      "aise baalma tero naam\n",
      "sab dekhi majboor hain jawaan mann dilruba nazron se thanda\n",
      "\n",
      "pehle bhi na saka dil ki kaise bulaye\n",
      "jaa re woh dil se door hain\n",
      "mulaaqaat thehar jana ho\n",
      "shaayi\n",
      "o sang ja re choote\n",
      "mili hui jagaye\n",
      "thak gaye\n",
      "rutt hain\n",
      "mujhe chuka hua hain jawan\n",
      "allah teri kabse khamoshi\n",
      "mujhe\n",
      "aahat pe\n",
      "\n",
      "nain jalaoge\n",
      "\n",
      "balawani mein\n",
      "mujhe\n",
      "aaoongta nazron se aaja, dheere hai yeh kaha\n",
      "sunjaa jane kar saare\n",
      "ya dil bhi mann dil ki bahaan meri moh liye\n",
      "yun sare mann ka gali hui jawani\n",
      "\n",
      "ruk jaa\n",
      "mili\n",
      "mili hain\n",
      "murjha choti si jaa raat ho chaayi panghata ja gayi jaa\n",
      "mil woh dil mein\n",
      "neendiya phir bhi nazaren phir kaha chuka hain jawan kinare\n",
      "yeh raha barse the baar\n",
      "yeh chandni phir yeh\n",
      "gharse the basake aaj is jana balma tero na saare\n",
      "jeevan sare mann\n",
      "bhata pati\n",
      "magar hain\n",
      "bhatki hum taron se dil bhi na chhaayi\n",
      "\n",
      "o beqaraar re\n",
      "\n",
      "ruk jaati\n",
      "jal rahe tero naam\n",
      "allah teri bina\n",
      "s\n"
     ]
    }
   ],
   "source": [
    "text=generateText(\"abdiya\",4,1000)\n",
    "print(text)"
   ]
  },
  {
   "cell_type": "code",
   "execution_count": 41,
   "metadata": {},
   "outputs": [
    {
     "name": "stdout",
     "output_type": "stream",
     "text": [
      "farhan mora ghoondti hawa uudi ghat pe\n",
      "oh moh lijiye\n",
      "khud dilruba\n",
      "\n",
      "ashqon ko dhoondti hoke rakhwaap ki taron se aaja re woh\n",
      "isharen hai hawayen leherake na aayega aaja ri aans bhi yunn aagan, tum jhim gire se akhiyan\n",
      "tera jiya aayega, aayegi\n",
      "sawan dole\n",
      "meri kaiso hain milan ka gaya se khada tero na jahaan bedardi, saiyaan bedardi, saiyaan\n",
      "ho rone par madhur mausam behka hain mil gaye ja jal rahe kaha, kaisi aur ro liyan marod gayi panghat pe\n",
      "\n",
      "nain dukh mein ka yeh kehna\n",
      "\n",
      "tumko pukare ja re wohi mann din kyun hastan\n",
      "\n",
      "rim jhim gire saari\n",
      "\n",
      "ho naam\n",
      "\n",
      "main dil mujhe kar taaron na janam mein barkha bahaandni raat ho na honge\n",
      "bahare\n",
      "lekar layi, ankhiyan mein ke ritu laut aaye bechain\n",
      "is baalma tera to dikhlaja re mere dilruba nahin\n",
      "aakh ghum milan kii bela\n",
      "aaja ri anari aati de koi saloni mein kho gayo re\n",
      "yeh chanda\n",
      "beete nahin khoye ho\n",
      "shayad phir ke honge\n",
      "\n",
      "bairi duniya mann dil ki ae dhadkan thaher jaa ke sab ho gali ghum miln mein tan kii bela\n",
      "aaye\n",
      "tumko yaha, kaise bulaye\n",
      "humko pukare tha akeli,\n"
     ]
    }
   ],
   "source": [
    "text=generateText(\"farhan\",4,1000)\n",
    "print(text)"
   ]
  },
  {
   "cell_type": "code",
   "execution_count": null,
   "metadata": {},
   "outputs": [],
   "source": []
  }
 ],
 "metadata": {
  "kernelspec": {
   "display_name": "Python 3",
   "language": "python",
   "name": "python3"
  },
  "language_info": {
   "codemirror_mode": {
    "name": "ipython",
    "version": 3
   },
   "file_extension": ".py",
   "mimetype": "text/x-python",
   "name": "python",
   "nbconvert_exporter": "python",
   "pygments_lexer": "ipython3",
   "version": "3.8.5"
  }
 },
 "nbformat": 4,
 "nbformat_minor": 4
}
